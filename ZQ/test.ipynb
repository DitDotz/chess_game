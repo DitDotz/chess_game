{
 "cells": [
  {
   "cell_type": "code",
   "execution_count": 51,
   "metadata": {},
   "outputs": [
    {
     "name": "stdout",
     "output_type": "stream",
     "text": [
      "{(1, 2): Piece(x=1, y=2, color=<Color.BLACK: 1>, type=<PieceType.KNIGHT: 'knight'>), (2, 2): Piece(x=2, y=2, color=<Color.BLACK: 1>, type=<PieceType.KING: 'king'>)}\n"
     ]
    }
   ],
   "source": [
    "from pieces import *\n",
    "from notation import interpret_notation\n",
    "\n",
    "dict = {(0,1): Piece(1,2, type=PieceType.KNIGHT, color=Color.BLACK), (2,2):Piece(2,2, type=PieceType.KING,color=Color.BLACK)}\n",
    "print(dict)"
   ]
  },
  {
   "cell_type": "code",
   "execution_count": null,
   "metadata": {},
   "outputs": [],
   "source": [
    "original_pos = "
   ]
  },
  {
   "cell_type": "code",
   "execution_count": null,
   "metadata": {},
   "outputs": [],
   "source": [
    "def test_move_piece(dict, piece: Piece, fen_notation: str):\n",
    "    \"\"\"\n",
    "    Move a piece to a new position on the board, disregarding valid moves.\n",
    "    Replace the original position with an empty piece.\n",
    "    \"\"\"\n",
    "    \n"
   ]
  },
  {
   "cell_type": "code",
   "execution_count": 46,
   "metadata": {},
   "outputs": [],
   "source": [
    "\n",
    "# Get the piece at key (1, 2)\n",
    "from_original_piece = dict[original_pos]\n",
    "\n",
    "# Create a new piece at key (2, 2) with the same attributes as the piece at key (1, 2)\n",
    "dict[(2, 2)] = Piece(2, 2, type=from_original_piece.type, color=from_original_piece.color)\n",
    "\n",
    "# Set the piece at key (1, 2) to be an empty piece\n",
    "dict[(1, 2)] = Piece(1, 2, type=PieceType.EMPTY)\n",
    "\n",
    "# Update the x and y coordinates of the piece at key (2, 2)\n",
    "from_original_piece.x = 2\n",
    "from_original_piece.y = 2\n"
   ]
  },
  {
   "cell_type": "code",
   "execution_count": 47,
   "metadata": {},
   "outputs": [
    {
     "data": {
      "text/plain": [
       "{(1,\n",
       "  2): Piece(x=1, y=2, color=<Color.NONE: -1>, type=<PieceType.EMPTY: 'empty'>),\n",
       " (2,\n",
       "  2): Piece(x=2, y=2, color=<Color.BLACK: 1>, type=<PieceType.KNIGHT: 'knight'>)}"
      ]
     },
     "execution_count": 47,
     "metadata": {},
     "output_type": "execute_result"
    }
   ],
   "source": [
    "dict"
   ]
  },
  {
   "cell_type": "code",
   "execution_count": null,
   "metadata": {},
   "outputs": [],
   "source": []
  }
 ],
 "metadata": {
  "kernelspec": {
   "display_name": "chess",
   "language": "python",
   "name": "python3"
  },
  "language_info": {
   "codemirror_mode": {
    "name": "ipython",
    "version": 3
   },
   "file_extension": ".py",
   "mimetype": "text/x-python",
   "name": "python",
   "nbconvert_exporter": "python",
   "pygments_lexer": "ipython3",
   "version": "3.12.1"
  }
 },
 "nbformat": 4,
 "nbformat_minor": 2
}
