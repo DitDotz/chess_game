{
 "cells": [
  {
   "cell_type": "code",
   "execution_count": 1,
   "metadata": {},
   "outputs": [],
   "source": [
    "from pieces import *\n",
    "from notation import *\n",
    "from board import *\n",
    "from moves import *\n",
    "from king_validation import *"
   ]
  },
  {
   "cell_type": "markdown",
   "metadata": {},
   "source": [
    "# Problem to tackle \n",
    "\n",
    "AssertionError: assert False == True for rigin_pos, final_pos_piece = interpret_notation(\"Rd4d1\") == True\n"
   ]
  },
  {
   "cell_type": "code",
   "execution_count": 9,
   "metadata": {},
   "outputs": [
    {
     "name": "stdout",
     "output_type": "stream",
     "text": [
      "  a   b   c   d   e   f   g   h\n",
      "|---|---|---|---|---|---|---|---| 8\n",
      "|   |   |   |   | ♖ |   |   |   |\n",
      "|---|---|---|---|---|---|---|---| 7\n",
      "|   |   |   |   |   |   |   |   |\n",
      "|---|---|---|---|---|---|---|---| 6\n",
      "|   | ♕ |   |   |   |   |   | ♗ |\n",
      "|---|---|---|---|---|---|---|---| 5\n",
      "|   |   |   |   |   |   |   |   |\n",
      "|---|---|---|---|---|---|---|---| 4\n",
      "|   |   |   | ♜ | ♜ | ♜ |   |   |\n",
      "|---|---|---|---|---|---|---|---| 3\n",
      "|   |   |   |   | ♚ |   |   |   |\n",
      "|---|---|---|---|---|---|---|---| 2\n",
      "|   |   |   |   | ♜ |   |   |   |\n",
      "|---|---|---|---|---|---|---|---| 1\n",
      "|   |   |   |   | ♘ |   |   |   |\n",
      "|---|---|---|---|---|---|---|---|\n",
      "  a   b   c   d   e   f   g   h\n",
      "\n"
     ]
    }
   ],
   "source": [
    "\n",
    "fen = \"4r3/8/1q5b/8/3RRR2/4K3/4R3/4n3\"\n",
    "\n",
    "board = Board()\n",
    "board.process_fen(\"4r3/8/1q5b/8/3RRR2/4K3/4R3/4n3\")\n",
    "print(board)\n"
   ]
  },
  {
   "cell_type": "code",
   "execution_count": null,
   "metadata": {},
   "outputs": [],
   "source": []
  },
  {
   "cell_type": "code",
   "execution_count": 11,
   "metadata": {},
   "outputs": [
    {
     "data": {
      "text/plain": [
       "Piece(x=4, y=3, color=<Color.WHITE: 0>, type=<PieceType.ROOK: 'rook'>)"
      ]
     },
     "execution_count": 11,
     "metadata": {},
     "output_type": "execute_result"
    }
   ],
   "source": [
    "origin_pos, final_pos_piece = interpret_notation(\"Rd4d1\")\n",
    "piece_to_move = board.board[origin_pos]\n",
    "piece_to_move"
   ]
  },
  {
   "cell_type": "code",
   "execution_count": 8,
   "metadata": {},
   "outputs": [
    {
     "ename": "KingNotFound",
     "evalue": "Color.NONE king not found",
     "output_type": "error",
     "traceback": [
      "\u001b[1;31m---------------------------------------------------------------------------\u001b[0m",
      "\u001b[1;31mKingNotFound\u001b[0m                              Traceback (most recent call last)",
      "Cell \u001b[1;32mIn[8], line 1\u001b[0m\n\u001b[1;32m----> 1\u001b[0m \u001b[43mUniversalMovementValidation\u001b[49m\u001b[38;5;241;43m.\u001b[39;49m\u001b[43mis_pinned_to_own_king\u001b[49m\u001b[43m(\u001b[49m\n\u001b[0;32m      2\u001b[0m \u001b[43m        \u001b[49m\u001b[43mpiece\u001b[49m\u001b[38;5;241;43m=\u001b[39;49m\u001b[43mpiece_to_move\u001b[49m\u001b[43m,\u001b[49m\n\u001b[0;32m      3\u001b[0m \u001b[43m        \u001b[49m\u001b[43mboard\u001b[49m\u001b[38;5;241;43m=\u001b[39;49m\u001b[43mboard\u001b[49m\u001b[38;5;241;43m.\u001b[39;49m\u001b[43mboard\u001b[49m\u001b[43m,\u001b[49m\n\u001b[0;32m      4\u001b[0m \u001b[43m        \u001b[49m\u001b[43mnew_x\u001b[49m\u001b[38;5;241;43m=\u001b[39;49m\u001b[43mfinal_pos_piece\u001b[49m\u001b[38;5;241;43m.\u001b[39;49m\u001b[43mx\u001b[49m\u001b[43m,\u001b[49m\n\u001b[0;32m      5\u001b[0m \u001b[43m        \u001b[49m\u001b[43mnew_y\u001b[49m\u001b[38;5;241;43m=\u001b[39;49m\u001b[43mfinal_pos_piece\u001b[49m\u001b[38;5;241;43m.\u001b[39;49m\u001b[43my\u001b[49m\u001b[43m,\u001b[49m\n\u001b[0;32m      6\u001b[0m \u001b[43m    \u001b[49m\u001b[43m)\u001b[49m\n",
      "File \u001b[1;32mc:\\Users\\Zhi Quan\\Documents\\chess_game\\chess_game\\ZQ\\moves.py:237\u001b[0m, in \u001b[0;36mUniversalMovementValidation.is_pinned_to_own_king\u001b[1;34m(piece, board, new_x, new_y)\u001b[0m\n\u001b[0;32m    230\u001b[0m \u001b[38;5;129m@staticmethod\u001b[39m\n\u001b[0;32m    231\u001b[0m \u001b[38;5;28;01mdef\u001b[39;00m \u001b[38;5;21mis_pinned_to_own_king\u001b[39m(\n\u001b[0;32m    232\u001b[0m     piece: Piece, board: Dict[Tuple[\u001b[38;5;28mint\u001b[39m, \u001b[38;5;28mint\u001b[39m], Piece], new_x: \u001b[38;5;28mint\u001b[39m, new_y: \u001b[38;5;28mint\u001b[39m\n\u001b[0;32m    233\u001b[0m ) \u001b[38;5;241m-\u001b[39m\u001b[38;5;241m>\u001b[39m \u001b[38;5;28mbool\u001b[39m:\n\u001b[0;32m    235\u001b[0m     color \u001b[38;5;241m=\u001b[39m piece\u001b[38;5;241m.\u001b[39mcolor\n\u001b[1;32m--> 237\u001b[0m     king_x, king_y \u001b[38;5;241m=\u001b[39m \u001b[43mKingValidation\u001b[49m\u001b[38;5;241;43m.\u001b[39;49m\u001b[43mfind_king_position\u001b[49m\u001b[43m(\u001b[49m\u001b[43mboard\u001b[49m\u001b[43m,\u001b[49m\u001b[43m \u001b[49m\u001b[43mcolor\u001b[49m\u001b[43m)\u001b[49m\n\u001b[0;32m    238\u001b[0m     \u001b[38;5;28mprint\u001b[39m(king_x, king_y)\n\u001b[0;32m    240\u001b[0m     \u001b[38;5;66;03m# Determine the direction vector from the piece to its own king\u001b[39;00m\n",
      "File \u001b[1;32mc:\\Users\\Zhi Quan\\Documents\\chess_game\\chess_game\\ZQ\\king_validation.py:24\u001b[0m, in \u001b[0;36mKingValidation.find_king_position\u001b[1;34m(board, color)\u001b[0m\n\u001b[0;32m     22\u001b[0m \u001b[38;5;66;03m# Raise KingNotFound if king position is not found\u001b[39;00m\n\u001b[0;32m     23\u001b[0m \u001b[38;5;28;01mif\u001b[39;00m king_position \u001b[38;5;241m==\u001b[39m (\u001b[38;5;28;01mNone\u001b[39;00m, \u001b[38;5;28;01mNone\u001b[39;00m):\n\u001b[1;32m---> 24\u001b[0m     \u001b[38;5;28;01mraise\u001b[39;00m KingNotFound(color)\n\u001b[0;32m     26\u001b[0m \u001b[38;5;28;01mreturn\u001b[39;00m king_position\n",
      "\u001b[1;31mKingNotFound\u001b[0m: Color.NONE king not found"
     ]
    }
   ],
   "source": [
    "UniversalMovementValidation.is_pinned_to_own_king(\n",
    "        piece=piece_to_move,\n",
    "        board=board.board,\n",
    "        new_x=final_pos_piece.x,\n",
    "        new_y=final_pos_piece.y,\n",
    "    )"
   ]
  },
  {
   "cell_type": "code",
   "execution_count": null,
   "metadata": {},
   "outputs": [],
   "source": []
  }
 ],
 "metadata": {
  "kernelspec": {
   "display_name": "chess",
   "language": "python",
   "name": "python3"
  },
  "language_info": {
   "codemirror_mode": {
    "name": "ipython",
    "version": 3
   },
   "file_extension": ".py",
   "mimetype": "text/x-python",
   "name": "python",
   "nbconvert_exporter": "python",
   "pygments_lexer": "ipython3",
   "version": "3.12.2"
  }
 },
 "nbformat": 4,
 "nbformat_minor": 2
}
