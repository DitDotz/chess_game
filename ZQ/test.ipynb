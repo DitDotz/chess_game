{
 "cells": [
  {
   "cell_type": "code",
   "execution_count": 3,
   "metadata": {},
   "outputs": [],
   "source": [
    "from pieces import *\n",
    "from notation import *\n",
    "from board import Board\n",
    "from moves import *\n",
    "from king_validation import *"
   ]
  },
  {
   "cell_type": "markdown",
   "metadata": {},
   "source": [
    "# Problem to tackle \n",
    "\n",
    "AssertionError: assert False == True for rigin_pos, final_pos_piece = interpret_notation(\"Rd4d1\") == True\n"
   ]
  },
  {
   "cell_type": "code",
   "execution_count": 4,
   "metadata": {},
   "outputs": [],
   "source": [
    "fen = \"4k3/3p1p2/4P3/pP5B/6pP/3b4/2P2P2/1K6\"\n",
    "board = Board()\n"
   ]
  },
  {
   "cell_type": "code",
   "execution_count": 5,
   "metadata": {},
   "outputs": [
    {
     "data": {
      "text/plain": [
       "True"
      ]
     },
     "execution_count": 5,
     "metadata": {},
     "output_type": "execute_result"
    }
   ],
   "source": [
    "board.process_fen(fen)\n",
    "origin_pos, final_pos_piece = Notation.interpret_notation(\"Pc2d3\")\n",
    "pawn = board.board[origin_pos]\n",
    "pawn_movement = PawnMovement(pawn)\n",
    "valid_moves = pawn_movement.get_valid_moves(board.board)\n",
    "expected_moves = [(5, 3)]\n",
    "valid_moves==expected_moves"
   ]
  },
  {
   "cell_type": "code",
   "execution_count": null,
   "metadata": {},
   "outputs": [],
   "source": [
    "# board refers to simulated board\n",
    "def is_king_in_check(\n",
    "    originalPiece: Piece, board: Dict[Tuple[int, int], Piece]\n",
    ") -> bool:\n",
    "\n",
    "    # Find position of king in simulated position\n",
    "    king_x, king_y = KingValidation.find_king_position(board, originalPiece.color)\n",
    "\n",
    "    # check for ray pieces in all directions\n",
    "\n",
    "    ray_directions = [\n",
    "            (dx, dy) for dx in range(-1, 2) for dy in range(-1, 2) if (dx, dy) != (0, 0)\n",
    "        ]\n",
    "    \n",
    "    knight_directions = [\n",
    "            (2, 1),\n",
    "            (2, -1),\n",
    "            (-2, 1),\n",
    "            (-2, -1),\n",
    "            (1, 2),\n",
    "            (1, -2),\n",
    "            (-1, 2),\n",
    "            (-1, -2)]\n",
    "\n",
    "    for dx, dy in ray_directions:\n",
    "        \n",
    "        x, y = king_x + dx, king_y + dy\n",
    "\n",
    "        while UniversalMovementValidation.is_within_board(x, y):\n",
    "            piece_at_position = board.get((x, y))\n",
    "\n",
    "            if UniversalMovementValidation.is_not_occupied_by_allies(\n",
    "                board, x, y, originalPiece.color\n",
    "            ):\n",
    "\n",
    "                piece_at_position = board.get((x, y))\n",
    "\n",
    "                # If it returns true, it can either be the opposing color or empty.\n",
    "                if piece_at_position.type != PieceType.EMPTY:\n",
    "\n",
    "                    if BoardUtils.is_in_direct_contact_with_opposing_piece(\n",
    "                        piece_at_position=piece_at_position, dx=dx, dy=dy\n",
    "                    ):\n",
    "                        return True\n",
    "\n",
    "                    else:\n",
    "                        break\n",
    "            else:\n",
    "                x += dx\n",
    "                y += dy\n",
    "\n",
    "        else:\n",
    "            break\n",
    "\n",
    "    for dx, dy in knight_directions:\n",
    "        x, y = king_x + dx, king_y + dy\n",
    "\n",
    "        if UniversalMovementValidation.is_within_board(x, y):\n",
    "            piece_at_position = board.get((x, y))\n",
    "\n",
    "            if UniversalMovementValidation.is_not_occupied_by_allies(\n",
    "                board, x, y, originalPiece.color\n",
    "            ):\n",
    "\n",
    "                piece_at_position = board.get((x, y))\n",
    "\n",
    "                # If it returns true, it can either be the opposing color or empty.\n",
    "                if piece.type == PieceType.KNIGHT:\n",
    "                    return True\n",
    "    return False\n"
   ]
  },
  {
   "cell_type": "code",
   "execution_count": null,
   "metadata": {},
   "outputs": [],
   "source": []
  }
 ],
 "metadata": {
  "kernelspec": {
   "display_name": "chess",
   "language": "python",
   "name": "python3"
  },
  "language_info": {
   "codemirror_mode": {
    "name": "ipython",
    "version": 3
   },
   "file_extension": ".py",
   "mimetype": "text/x-python",
   "name": "python",
   "nbconvert_exporter": "python",
   "pygments_lexer": "ipython3",
   "version": "3.12.2"
  }
 },
 "nbformat": 4,
 "nbformat_minor": 2
}
