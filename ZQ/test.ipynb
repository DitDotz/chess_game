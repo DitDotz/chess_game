{
 "cells": [
  {
   "cell_type": "code",
   "execution_count": 23,
   "metadata": {},
   "outputs": [],
   "source": [
    "from pieces import *\n",
    "from notation import *\n",
    "from board import Board\n",
    "from moves import *\n",
    "from king_validation import *"
   ]
  },
  {
   "cell_type": "markdown",
   "metadata": {},
   "source": [
    "# Problem to tackle \n",
    "\n",
    "AssertionError: assert False == True for rigin_pos, final_pos_piece = interpret_notation(\"Rd4d1\") == True\n"
   ]
  },
  {
   "cell_type": "code",
   "execution_count": 24,
   "metadata": {},
   "outputs": [
    {
     "name": "stdout",
     "output_type": "stream",
     "text": [
      "  a   b   c   d   e   f   g   h\n",
      "|---|---|---|---|---|---|---|---| 8\n",
      "|   |   |   |   | ♔ |   |   |   |\n",
      "|---|---|---|---|---|---|---|---| 7\n",
      "|   |   |   | ♙ |   | ♙ |   |   |\n",
      "|---|---|---|---|---|---|---|---| 6\n",
      "|   |   |   |   | ♟ |   |   |   |\n",
      "|---|---|---|---|---|---|---|---| 5\n",
      "| ♙ | ♟ |   |   |   |   |   | ♝ |\n",
      "|---|---|---|---|---|---|---|---| 4\n",
      "|   |   |   |   |   |   | ♙ | ♟ |\n",
      "|---|---|---|---|---|---|---|---| 3\n",
      "|   |   |   | ♗ |   |   |   |   |\n",
      "|---|---|---|---|---|---|---|---| 2\n",
      "|   |   | ♟ |   |   | ♟ |   |   |\n",
      "|---|---|---|---|---|---|---|---| 1\n",
      "|   | ♚ |   |   |   |   |   |   |\n",
      "|---|---|---|---|---|---|---|---|\n",
      "  a   b   c   d   e   f   g   h\n",
      "\n"
     ]
    }
   ],
   "source": [
    "fen = \"4k3/3p1p2/4P3/pP5B/6pP/3b4/2P2P2/1K6\"\n",
    "board = Board()\n",
    "board.process_fen(fen)\n",
    "print(board)"
   ]
  },
  {
   "cell_type": "code",
   "execution_count": 25,
   "metadata": {},
   "outputs": [
    {
     "ename": "AttributeError",
     "evalue": "type object 'UniversalMovementValidation' has no attribute 'is_king_in_check'",
     "output_type": "error",
     "traceback": [
      "\u001b[1;31m---------------------------------------------------------------------------\u001b[0m",
      "\u001b[1;31mAttributeError\u001b[0m                            Traceback (most recent call last)",
      "Cell \u001b[1;32mIn[25], line 9\u001b[0m\n\u001b[0;32m      7\u001b[0m                 valid_moves[position] \u001b[38;5;241m=\u001b[39m moves\n\u001b[0;32m      8\u001b[0m     \u001b[38;5;28;01mreturn\u001b[39;00m valid_moves\n\u001b[1;32m----> 9\u001b[0m \u001b[43mget_all_valid_moves\u001b[49m\u001b[43m(\u001b[49m\u001b[43mboard\u001b[49m\u001b[43m,\u001b[49m\u001b[43m \u001b[49m\u001b[43mColor\u001b[49m\u001b[38;5;241;43m.\u001b[39;49m\u001b[43mWHITE\u001b[49m\u001b[43m)\u001b[49m\n",
      "Cell \u001b[1;32mIn[25], line 5\u001b[0m, in \u001b[0;36mget_all_valid_moves\u001b[1;34m(board, color)\u001b[0m\n\u001b[0;32m      3\u001b[0m \u001b[38;5;28;01mfor\u001b[39;00m position, piece \u001b[38;5;129;01min\u001b[39;00m board\u001b[38;5;241m.\u001b[39mboard\u001b[38;5;241m.\u001b[39mitems():\n\u001b[0;32m      4\u001b[0m     \u001b[38;5;28;01mif\u001b[39;00m piece\u001b[38;5;241m.\u001b[39mcolor \u001b[38;5;241m==\u001b[39m color:\n\u001b[1;32m----> 5\u001b[0m         moves \u001b[38;5;241m=\u001b[39m \u001b[43mboard\u001b[49m\u001b[38;5;241;43m.\u001b[39;49m\u001b[43mget_valid_moves\u001b[49m\u001b[43m(\u001b[49m\u001b[43mpiece\u001b[49m\u001b[43m)\u001b[49m\n\u001b[0;32m      6\u001b[0m         \u001b[38;5;28;01mif\u001b[39;00m moves:\n\u001b[0;32m      7\u001b[0m             valid_moves[position] \u001b[38;5;241m=\u001b[39m moves\n",
      "File \u001b[1;32mc:\\Users\\Zhi Quan\\Documents\\chess_game\\chess_game\\ZQ\\board.py:121\u001b[0m, in \u001b[0;36mBoard.get_valid_moves\u001b[1;34m(self, piece)\u001b[0m\n\u001b[0;32m    119\u001b[0m piece_movement_instance \u001b[38;5;241m=\u001b[39m pieceMovement_class(piece)\n\u001b[0;32m    120\u001b[0m \u001b[38;5;28;01mif\u001b[39;00m piece_movement_instance:\n\u001b[1;32m--> 121\u001b[0m     \u001b[38;5;28;01mreturn\u001b[39;00m \u001b[43mpiece_movement_instance\u001b[49m\u001b[38;5;241;43m.\u001b[39;49m\u001b[43mget_valid_moves\u001b[49m\u001b[43m(\u001b[49m\u001b[38;5;28;43mself\u001b[39;49m\u001b[38;5;241;43m.\u001b[39;49m\u001b[43mboard\u001b[49m\u001b[43m)\u001b[49m\n\u001b[0;32m    122\u001b[0m \u001b[38;5;28;01melse\u001b[39;00m:\n\u001b[0;32m    123\u001b[0m     \u001b[38;5;28mprint\u001b[39m(\u001b[38;5;124m\"\u001b[39m\u001b[38;5;124mPiece not recognized for movement\u001b[39m\u001b[38;5;124m\"\u001b[39m)\n",
      "File \u001b[1;32mc:\\Users\\Zhi Quan\\Documents\\chess_game\\chess_game\\ZQ\\moves.py:46\u001b[0m, in \u001b[0;36mKingMovement.get_valid_moves\u001b[1;34m(self, board)\u001b[0m\n\u001b[0;32m     39\u001b[0m \u001b[38;5;28;01mfor\u001b[39;00m dx, dy \u001b[38;5;129;01min\u001b[39;00m directions:\n\u001b[0;32m     40\u001b[0m     new_x, new_y \u001b[38;5;241m=\u001b[39m x \u001b[38;5;241m+\u001b[39m dx, y \u001b[38;5;241m+\u001b[39m dy\n\u001b[0;32m     41\u001b[0m     \u001b[38;5;28;01mif\u001b[39;00m (\n\u001b[0;32m     42\u001b[0m         UniversalMovementValidation\u001b[38;5;241m.\u001b[39mis_within_board(new_x, new_y)\n\u001b[0;32m     43\u001b[0m         \u001b[38;5;129;01mand\u001b[39;00m UniversalMovementValidation\u001b[38;5;241m.\u001b[39mis_not_occupied_by_allies(\n\u001b[0;32m     44\u001b[0m             board, new_x, new_y, color\n\u001b[0;32m     45\u001b[0m         )\n\u001b[1;32m---> 46\u001b[0m         \u001b[38;5;129;01mand\u001b[39;00m \u001b[38;5;129;01mnot\u001b[39;00m \u001b[43mUniversalMovementValidation\u001b[49m\u001b[38;5;241;43m.\u001b[39;49m\u001b[43mis_king_in_check\u001b[49m()\n\u001b[0;32m     47\u001b[0m     ):\n\u001b[0;32m     48\u001b[0m         valid_moves\u001b[38;5;241m.\u001b[39mappend((new_x, new_y))\n\u001b[0;32m     50\u001b[0m \u001b[38;5;28;01mreturn\u001b[39;00m valid_moves\n",
      "\u001b[1;31mAttributeError\u001b[0m: type object 'UniversalMovementValidation' has no attribute 'is_king_in_check'"
     ]
    }
   ],
   "source": [
    "def get_all_valid_moves(board: Board, color: Color) -> Dict[Tuple[int, int], List[Tuple[int, int]]]:\n",
    "    valid_moves = {}\n",
    "    for position, piece in board.board.items():\n",
    "        if piece.color == color:\n",
    "            moves = board.get_valid_moves(piece)\n",
    "            if moves:\n",
    "                valid_moves[position] = moves\n",
    "    return valid_moves\n",
    "get_all_valid_moves(board, Color.WHITE)"
   ]
  },
  {
   "cell_type": "code",
   "execution_count": 5,
   "metadata": {},
   "outputs": [
    {
     "data": {
      "text/plain": [
       "True"
      ]
     },
     "execution_count": 5,
     "metadata": {},
     "output_type": "execute_result"
    }
   ],
   "source": [
    "board.process_fen(fen)\n",
    "origin_pos, final_pos_piece = Notation.interpret_notation(\"Pc2d3\")\n",
    "pawn = board.board[origin_pos]\n",
    "pawn_movement = PawnMovement(pawn)\n",
    "valid_moves = pawn_movement.get_valid_moves(board.board)\n",
    "expected_moves = [(5, 3)]\n",
    "valid_moves==expected_moves"
   ]
  },
  {
   "cell_type": "code",
   "execution_count": null,
   "metadata": {},
   "outputs": [],
   "source": [
    "# board refers to simulated board\n",
    "def is_king_in_check(\n",
    "    color: Color, board: Dict[Tuple[int, int], Piece]\n",
    ") -> bool:\n",
    "\n",
    "    # Find position of king in simulated position\n",
    "    king_x, king_y = KingValidation.find_king_position(board, color)\n",
    "\n",
    "    # check for ray pieces in all directions\n",
    "    ray_directions = [\n",
    "            (dx, dy) for dx in range(-1, 2) for dy in range(-1, 2) if (dx, dy) != (0, 0)\n",
    "        ]\n",
    "    \n",
    "    knight_directions = [\n",
    "            (2, 1),\n",
    "            (2, -1),\n",
    "            (-2, 1),\n",
    "            (-2, -1),\n",
    "            (1, 2),\n",
    "            (1, -2),\n",
    "            (-1, 2),\n",
    "            (-1, -2)]\n",
    "    # There is overlap with ray directions, so fit it in the ray loop\n",
    "    # if color==white and pawn exists in\n",
    "    # pawn_directions = [] if king.color==PieceType.WHITE else []\n",
    "\n",
    "    for dx, dy in ray_directions:\n",
    "        \n",
    "        x, y = king_x + dx, king_y + dy\n",
    "\n",
    "        while UniversalMovementValidation.is_within_board(x, y):\n",
    "\n",
    "            if UniversalMovementValidation.is_not_occupied_by_allies(\n",
    "                board, x, y,color\n",
    "            ):\n",
    "\n",
    "                piece_at_position = board.get((x, y))\n",
    "\n",
    "                # If it returns true, it can either be the opposing color or empty.\n",
    "                if piece_at_position.type != PieceType.EMPTY:\n",
    "\n",
    "                    if BoardUtils.is_in_direct_contact_with_opposing_piece(\n",
    "                        piece_at_position=piece_at_position, dx=dx, dy=dy\n",
    "                    ):\n",
    "                        return True\n",
    "\n",
    "                    else:\n",
    "                        break\n",
    "                else:\n",
    "                    x += dx\n",
    "                    y += dy\n",
    "\n",
    "            else:\n",
    "                break\n",
    "\n",
    "    for dx, dy in knight_directions:\n",
    "        x, y = king_x + dx, king_y + dy\n",
    "\n",
    "        if UniversalMovementValidation.is_within_board(x, y):\n",
    "\n",
    "            if UniversalMovementValidation.is_not_occupied_by_allies(\n",
    "                board, x, y, color\n",
    "            ):\n",
    "\n",
    "                piece_at_position = board.get((x, y))\n",
    "\n",
    "                # If it returns true, it can either be the opposing color or empty.\n",
    "                if piece_at_position.type == PieceType.KNIGHT:\n",
    "                    return True\n",
    "    return False\n"
   ]
  },
  {
   "cell_type": "code",
   "execution_count": null,
   "metadata": {},
   "outputs": [],
   "source": []
  }
 ],
 "metadata": {
  "kernelspec": {
   "display_name": "chess",
   "language": "python",
   "name": "python3"
  },
  "language_info": {
   "codemirror_mode": {
    "name": "ipython",
    "version": 3
   },
   "file_extension": ".py",
   "mimetype": "text/x-python",
   "name": "python",
   "nbconvert_exporter": "python",
   "pygments_lexer": "ipython3",
   "version": "3.12.2"
  }
 },
 "nbformat": 4,
 "nbformat_minor": 2
}
