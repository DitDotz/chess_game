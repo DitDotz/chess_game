{
 "cells": [
  {
   "cell_type": "code",
   "execution_count": 55,
   "metadata": {},
   "outputs": [
    {
     "name": "stdout",
     "output_type": "stream",
     "text": [
      "{(0, 1): Piece(x=1, y=2, color=<Color.BLACK: 1>, type=<PieceType.KNIGHT: 'knight'>), (2, 1): Piece(x=2, y=1, color=<Color.BLACK: 1>, type=<PieceType.KING: 'king'>)}\n"
     ]
    }
   ],
   "source": [
    "from pieces import *\n",
    "from notation import interpret_notation\n",
    "\n",
    "dict = {(0,1): Piece(1,2, type=PieceType.KNIGHT, color=Color.BLACK), (2,1):Piece(2,1, type=PieceType.KING,color=Color.BLACK)}\n",
    "print(dict)"
   ]
  },
  {
   "cell_type": "code",
   "execution_count": 56,
   "metadata": {},
   "outputs": [],
   "source": [
    "original_pos = (0,1)\n",
    "updated_piece = Piece(x=2, y=1, color=Color.BLACK, type=PieceType.KNIGHT)"
   ]
  },
  {
   "cell_type": "code",
   "execution_count": 60,
   "metadata": {},
   "outputs": [
    {
     "name": "stdout",
     "output_type": "stream",
     "text": [
      "{(0, 1): Piece(x=0, y=1, color=<Color.NONE: -1>, type=<PieceType.EMPTY: 'empty'>), (2, 1): Piece(x=2, y=1, color=<Color.BLACK: 1>, type=<PieceType.KNIGHT: 'knight'>)}\n"
     ]
    }
   ],
   "source": [
    "def test_move_piece(dict, original_pos, updated_piece):\n",
    "    \"\"\"\n",
    "    Move a piece to a new position on the board, disregarding valid moves.\n",
    "    Replace the original position with an empty piece.\n",
    "    \"\"\"\n",
    "    \n",
    "    dict[original_pos] = Piece(original_pos[0], original_pos[1], type=PieceType.EMPTY)\n",
    "    new_x, new_y = updated_piece.x, updated_piece.y\n",
    "    dict[(new_x, new_y)] = updated_piece\n",
    "    return(dict)\n",
    "\n",
    "print(test_move_piece(dict, original_pos, updated_piece))\n"
   ]
  },
  {
   "cell_type": "code",
   "execution_count": 46,
   "metadata": {},
   "outputs": [],
   "source": [
    "\n",
    "# Set the piece at key (1, 2) to be an empty piece\n",
    "dict[(1, 2)] = Piece(1, 2, type=PieceType.EMPTY)\n",
    "\n",
    "# Update the x and y coordinates of the piece at key (2, 2)\n",
    "from_original_piece.x = 2\n",
    "from_original_piece.y = 2\n"
   ]
  },
  {
   "cell_type": "code",
   "execution_count": 47,
   "metadata": {},
   "outputs": [
    {
     "data": {
      "text/plain": [
       "{(1,\n",
       "  2): Piece(x=1, y=2, color=<Color.NONE: -1>, type=<PieceType.EMPTY: 'empty'>),\n",
       " (2,\n",
       "  2): Piece(x=2, y=2, color=<Color.BLACK: 1>, type=<PieceType.KNIGHT: 'knight'>)}"
      ]
     },
     "execution_count": 47,
     "metadata": {},
     "output_type": "execute_result"
    }
   ],
   "source": [
    "dict"
   ]
  },
  {
   "cell_type": "code",
   "execution_count": 63,
   "metadata": {},
   "outputs": [
    {
     "name": "stdout",
     "output_type": "stream",
     "text": [
      "True\n"
     ]
    }
   ],
   "source": [
    "def is_correct_format(notation: str) -> bool:\n",
    "    \"\"\"\n",
    "    Check if the chess algebraic notation has the correct format.\n",
    "    Valid notation format: <piece><origin><destination>\n",
    "    \"\"\"\n",
    "    if len(notation) != 5:\n",
    "        return False  # Notation length should be exactly 5 characters\n",
    "\n",
    "    else:\n",
    "        return True\n",
    "\n",
    "notation = \"be1g5\"\n",
    "\n",
    "\n",
    "print(is_correct_format(notation))\n"
   ]
  },
  {
   "cell_type": "code",
   "execution_count": 64,
   "metadata": {},
   "outputs": [
    {
     "name": "stdout",
     "output_type": "stream",
     "text": [
      "[(-1, -1), (-1, 0), (-1, 1), (0, -1), (0, 1), (1, -1), (1, 0), (1, 1)]\n"
     ]
    }
   ],
   "source": [
    "directions = [(dx, dy) for dx in range(-1, 2) for dy in range(-1, 2) if (dx, dy) != (0, 0)]\n",
    "print(directions)"
   ]
  },
  {
   "cell_type": "code",
   "execution_count": null,
   "metadata": {},
   "outputs": [],
   "source": []
  }
 ],
 "metadata": {
  "kernelspec": {
   "display_name": "chess",
   "language": "python",
   "name": "python3"
  },
  "language_info": {
   "codemirror_mode": {
    "name": "ipython",
    "version": 3
   },
   "file_extension": ".py",
   "mimetype": "text/x-python",
   "name": "python",
   "nbconvert_exporter": "python",
   "pygments_lexer": "ipython3",
   "version": "3.12.1"
  }
 },
 "nbformat": 4,
 "nbformat_minor": 2
}
