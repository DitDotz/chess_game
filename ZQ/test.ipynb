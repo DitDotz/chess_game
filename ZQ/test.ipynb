{
 "cells": [
  {
   "cell_type": "code",
   "execution_count": 2,
   "metadata": {},
   "outputs": [],
   "source": [
    "from pieces import *\n",
    "from notation import *\n",
    "from board import *\n",
    "from moves import *\n",
    "from king_validation import *"
   ]
  },
  {
   "cell_type": "markdown",
   "metadata": {},
   "source": [
    "# Problem to tackle \n",
    "\n",
    "AssertionError: assert False == True for rigin_pos, final_pos_piece = interpret_notation(\"Rd4d1\") == True\n"
   ]
  },
  {
   "cell_type": "code",
   "execution_count": 3,
   "metadata": {},
   "outputs": [
    {
     "name": "stdout",
     "output_type": "stream",
     "text": [
      "  a   b   c   d   e   f   g   h\n",
      "|---|---|---|---|---|---|---|---| 8\n",
      "|   |   |   |   | ♖ |   |   |   |\n",
      "|---|---|---|---|---|---|---|---| 7\n",
      "|   |   |   |   |   |   |   |   |\n",
      "|---|---|---|---|---|---|---|---| 6\n",
      "|   | ♕ |   |   |   |   |   | ♗ |\n",
      "|---|---|---|---|---|---|---|---| 5\n",
      "|   |   |   |   |   |   |   |   |\n",
      "|---|---|---|---|---|---|---|---| 4\n",
      "|   |   |   | ♜ | ♜ | ♜ |   |   |\n",
      "|---|---|---|---|---|---|---|---| 3\n",
      "|   |   |   |   | ♚ |   |   |   |\n",
      "|---|---|---|---|---|---|---|---| 2\n",
      "|   |   |   |   | ♜ |   |   |   |\n",
      "|---|---|---|---|---|---|---|---| 1\n",
      "|   |   |   |   | ♘ |   |   |   |\n",
      "|---|---|---|---|---|---|---|---|\n",
      "  a   b   c   d   e   f   g   h\n",
      "\n"
     ]
    }
   ],
   "source": [
    "\n",
    "fen = \"4r3/8/1q5b/8/3RRR2/4K3/4R3/4n3\"\n",
    "\n",
    "board = Board()\n",
    "board.process_fen(\"4r3/8/1q5b/8/3RRR2/4K3/4R3/4n3\")\n",
    "print(board)\n"
   ]
  },
  {
   "cell_type": "code",
   "execution_count": 9,
   "metadata": {},
   "outputs": [
    {
     "name": "stdout",
     "output_type": "stream",
     "text": [
      "  a   b   c   d   e   f   g   h\n",
      "|---|---|---|---|---|---|---|---| 8\n",
      "|   |   |   |   | ♖ |   |   |   |\n",
      "|---|---|---|---|---|---|---|---| 7\n",
      "|   |   |   |   |   |   |   |   |\n",
      "|---|---|---|---|---|---|---|---| 6\n",
      "|   | ♕ |   |   |   |   |   | ♗ |\n",
      "|---|---|---|---|---|---|---|---| 5\n",
      "|   |   |   |   |   |   |   |   |\n",
      "|---|---|---|---|---|---|---|---| 4\n",
      "|   |   |   |   | ♜ | ♜ |   |   |\n",
      "|---|---|---|---|---|---|---|---| 3\n",
      "|   |   |   |   | ♚ |   |   |   |\n",
      "|---|---|---|---|---|---|---|---| 2\n",
      "|   |   |   |   | ♜ |   |   |   |\n",
      "|---|---|---|---|---|---|---|---| 1\n",
      "|   |   |   | ♜ | ♘ |   |   |   |\n",
      "|---|---|---|---|---|---|---|---|\n",
      "  a   b   c   d   e   f   g   h\n",
      "\n"
     ]
    }
   ],
   "source": [
    "board.move_piece(\"Rd4d1\")\n",
    "print(board)+"
   ]
  },
  {
   "cell_type": "code",
   "execution_count": 8,
   "metadata": {},
   "outputs": [
    {
     "name": "stdout",
     "output_type": "stream",
     "text": [
      "Piece(x=4, y=3, color=<Color.WHITE: 0>, type=<PieceType.ROOK: 'rook'>)\tPiece(x=7, y=3, color=<Color.WHITE: 0>, type=<PieceType.ROOK: 'rook'>)\n"
     ]
    }
   ],
   "source": [
    "origin_pos, final_pos_piece = interpret_notation(\"Rd4d1\")\n",
    "piece_to_move = board.board[origin_pos]\n",
    "print(piece_to_move, final_pos_piece, sep='\\t')"
   ]
  },
  {
   "cell_type": "code",
   "execution_count": 7,
   "metadata": {},
   "outputs": [
    {
     "name": "stdout",
     "output_type": "stream",
     "text": [
      "5 4\n",
      "Color.WHITE\n"
     ]
    },
    {
     "data": {
      "text/plain": [
       "False"
      ]
     },
     "execution_count": 7,
     "metadata": {},
     "output_type": "execute_result"
    }
   ],
   "source": [
    "UniversalMovementValidation.is_pinned_to_own_king(\n",
    "        piece=piece_to_move,\n",
    "        board=board.board,\n",
    "        new_x=final_pos_piece.x,\n",
    "        new_y=final_pos_piece.y,\n",
    "    )"
   ]
  },
  {
   "cell_type": "code",
   "execution_count": null,
   "metadata": {},
   "outputs": [],
   "source": []
  }
 ],
 "metadata": {
  "kernelspec": {
   "display_name": "chess",
   "language": "python",
   "name": "python3"
  },
  "language_info": {
   "codemirror_mode": {
    "name": "ipython",
    "version": 3
   },
   "file_extension": ".py",
   "mimetype": "text/x-python",
   "name": "python",
   "nbconvert_exporter": "python",
   "pygments_lexer": "ipython3",
   "version": "3.12.1"
  }
 },
 "nbformat": 4,
 "nbformat_minor": 2
}
